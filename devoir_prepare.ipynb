{
 "cells": [
  {
   "cell_type": "code",
   "execution_count": 25,
   "metadata": {
    "collapsed": true
   },
   "outputs": [],
   "source": [
    "import numpy as np\n",
    "import seaborn as sns\n",
    "import matplotlib.pyplot as plt  # for plots\n",
    "import pdb\n",
    "from sklearn.linear_model import RidgeCV"
   ]
  },
  {
   "cell_type": "code",
   "execution_count": 26,
   "metadata": {
    "collapsed": false
   },
   "outputs": [
    {
     "data": {
      "text/plain": [
       "array([[ 1.,  1.]])"
      ]
     },
     "execution_count": 26,
     "metadata": {},
     "output_type": "execute_result"
    }
   ],
   "source": [
    "\n",
    "from sklearn import linear_model\n",
    "\n",
    "X=[[1.,1.],[2.,2.],[1.,5.],[7.,8.]]\n",
    "y=[2.,4.,6.,15.]\n",
    "\n",
    "X=np.asarray(X).reshape((4, 2))\n",
    "y=np.asarray(y).reshape((4, 1))\n",
    "\n",
    "\n",
    "#X = preprocessing.scale(X)\n",
    "\n",
    "# Create linear regression object\n",
    "regr = linear_model.LinearRegression(fit_intercept=False)\n",
    "\n",
    "# Train the model using the training sets\n",
    "regr.fit(X, y)\n",
    "regr.coef_"
   ]
  },
  {
   "cell_type": "code",
   "execution_count": 27,
   "metadata": {
    "collapsed": false
   },
   "outputs": [
    {
     "name": "stdout",
     "output_type": "stream",
     "text": [
      "[[ 0.9962018 ]\n",
      " [ 1.00266682]]\n"
     ]
    }
   ],
   "source": [
    "#Least Squares\n",
    "\n",
    "from sklearn import preprocessing\n",
    "import pdb\n",
    "import numpy as np\n",
    "from numpy import linalg as LA\n",
    "\n",
    "theta = np.random.randn(2, 1)   # initialize theta vector\n",
    "\n",
    "theta=[10.,15.]\n",
    "theta=np.asarray(theta)\n",
    "theta = theta[:,np.newaxis]\n",
    "\n",
    "#X = np.random.randn(9, 6)\n",
    "#y = np.random.randn(9, 1)\n",
    "#x = np.array([1,2,3], dtype=np.int64)\n",
    "X=[[1.,1.],[2.,2.],[1.,5.],[7.,8.]]\n",
    "y=[2.,4.,6.,15.]\n",
    "\n",
    "X=np.asarray(X).reshape((4, 2))\n",
    "y=np.asarray(y).reshape((4, 1))\n",
    "\n",
    "\n",
    "def OLS_coordinate_descent(X,y,theta,epoch,tolerance):\n",
    "    \n",
    "    r = y - np.dot(X,theta)\n",
    "    for m in range(0,epoch):\n",
    "        for j in range(0,len(theta)):\n",
    "            theta_old = 100.\n",
    "            theta_new = theta[j,0]\n",
    "            Xt = X[:,j][:,np.newaxis]\n",
    "            #pdb.set_trace()\n",
    "            #for k in range(0,100):\n",
    "            while (LA.norm(theta_new-theta_old)  > tolerance):\n",
    "                theta_old = theta_new\n",
    "                r_int = r+ Xt * theta_old\n",
    "                theta_new = (np.dot(X[:,j],r_int) / LA.norm(X[:,j])**2)[0]\n",
    "                r = r_int - np.dot(Xt,theta_new)\n",
    "                #print LA.norm(r)\n",
    "\n",
    "            theta[j,0] = theta_new\n",
    "\n",
    "    print theta\n",
    "\n",
    "OLS_coordinate_descent(X,y,theta,50,0.01)"
   ]
  },
  {
   "cell_type": "code",
   "execution_count": 28,
   "metadata": {
    "collapsed": false
   },
   "outputs": [
    {
     "name": "stdout",
     "output_type": "stream",
     "text": [
      "[[ 0.50221669]\n",
      " [ 0.65388504]]\n"
     ]
    }
   ],
   "source": [
    "#Ridge\n",
    "\n",
    "from sklearn import preprocessing\n",
    "import pdb\n",
    "import numpy as np\n",
    "from numpy import linalg as LA\n",
    "\n",
    "theta = np.random.randn(2, 1)   # initialize theta vector\n",
    "lamda = 1\n",
    "theta=[8.,8.]\n",
    "theta=np.asarray(theta)\n",
    "theta = theta[:,np.newaxis]\n",
    "\n",
    "#X = np.random.randn(9, 6)\n",
    "#y = np.random.randn(9, 1)\n",
    "#x = np.array([1,2,3], dtype=np.int64)\n",
    "X=[[1.,1.],[2.,2.],[1.,5.],[7.,8.]]\n",
    "y=[2.,4.,6.,15.]\n",
    "\n",
    "X=np.asarray(X).reshape((4, 2))\n",
    "y=np.asarray(y).reshape((4, 1))\n",
    "\n",
    "\n",
    "def Ridge_coordinate_descent(X,y,theta,epoch,tolerance,lamda):\n",
    "    \n",
    "    r = y - np.dot(X,theta)\n",
    "    for m in range(0,epoch):\n",
    "        for j in range(0,len(theta)):\n",
    "            theta_old = 100.\n",
    "            theta_new = theta[j,0]\n",
    "            Xt = X[:,j][:,np.newaxis]\n",
    "            #pdb.set_trace()\n",
    "            #for k in range(0,100):\n",
    "            while (LA.norm(theta_new-theta_old)  > tolerance):\n",
    "                theta_old = theta_new\n",
    "                r_int = r+ Xt * theta_old\n",
    "                theta_new = (np.dot(X[:,j],r_int) / (LA.norm(X[:,j])**2+lamda))[0]\n",
    "                r = r_int - np.dot(Xt,theta_new)\n",
    "                #print LA.norm(r)\n",
    "\n",
    "            theta[j,0] = theta_new\n",
    "\n",
    "    print theta\n",
    "\n",
    "Ridge_coordinate_descent(X,y,theta,50,0.01,100)"
   ]
  },
  {
   "cell_type": "code",
   "execution_count": 30,
   "metadata": {
    "collapsed": false
   },
   "outputs": [
    {
     "name": "stdout",
     "output_type": "stream",
     "text": [
      "[[ 0.31356659  0.34693488]]\n"
     ]
    }
   ],
   "source": [
    "from sklearn import cross_validation\n",
    "from sklearn.linear_model import Ridge\n",
    "import scipy\n",
    "\n",
    "\n",
    "X=[[1.,1.],[2.,2.],[1.,5.],[7.,8.]]\n",
    "y=[2.,4.,6.,15.]\n",
    "\n",
    "X=np.asarray(X).reshape((4, 2))\n",
    "y=np.asarray(y).reshape((4, 1))\n",
    "\n",
    "\n",
    "clf = Ridge(alpha=100)\n",
    "clf.fit(X,y)\n",
    "print clf.coef_"
   ]
  },
  {
   "cell_type": "code",
   "execution_count": 57,
   "metadata": {
    "collapsed": false
   },
   "outputs": [
    {
     "name": "stdout",
     "output_type": "stream",
     "text": [
      "[[ 0.        ]\n",
      " [ 0.63829787]]\n"
     ]
    }
   ],
   "source": [
    "# Lasso\n",
    "\n",
    "from sklearn import preprocessing\n",
    "import pdb\n",
    "import numpy as np\n",
    "from numpy import linalg as LA\n",
    "\n",
    "theta = np.random.randn(2, 1)   # initialize theta vector\n",
    "lamda = 1\n",
    "theta=[8.,8.]\n",
    "theta=np.asarray(theta)\n",
    "theta = theta[:,np.newaxis]\n",
    "\n",
    "#X = np.random.randn(9, 6)\n",
    "#y = np.random.randn(9, 1)\n",
    "#x = np.array([1,2,3], dtype=np.int64)\n",
    "X=[[1.,1.],[2.,2.],[1.,5.],[7.,8.]]\n",
    "y=[2.,4.,6.,15.]\n",
    "\n",
    "X=np.asarray(X).reshape((4, 2))\n",
    "y=np.asarray(y).reshape((4, 1))\n",
    "\n",
    "\n",
    "def soft_thresh(z,lamda):\n",
    "    if abs(z)<= lamda:\n",
    "        return 0\n",
    "    if z >= lamda:\n",
    "        return (z-lamda)\n",
    "    if z <= lamda:\n",
    "        return (z+lamda)\n",
    "    \n",
    "def Lasso_coordinate_descent(X,y,theta,epoch,tolerance,lamda):\n",
    "    \n",
    "    r = y - np.dot(X,theta)\n",
    "    for m in range(0,epoch):\n",
    "        for j in range(0,len(theta)):\n",
    "            theta_old = 100.\n",
    "            theta_new = theta[j,0]\n",
    "            Xt = X[:,j][:,np.newaxis]\n",
    "           \n",
    "            while (LA.norm(theta_new-theta_old)  > tolerance):\n",
    "                theta_old = theta_new\n",
    "                r_int = r+ Xt * theta_old\n",
    "                z = (np.dot(X[:,j],r_int) / (LA.norm(X[:,j])**2))[0]\n",
    "                thresh = lamda/(LA.norm(X[:,j])**2)\n",
    "                theta_new = soft_thresh(z,thresh)\n",
    "                #theta_new = (np.dot(X[:,j],r_int) / (LA.norm(X[:,j])**2+lamda))[0]\n",
    "                r = r_int - np.dot(Xt,theta_new)\n",
    "                #print LA.norm(r)\n",
    "\n",
    "            theta[j,0] = theta_new\n",
    "\n",
    "    print theta\n",
    "\n",
    "Lasso_coordinate_descent(X,y,theta,100,0.01,100)\n"
   ]
  },
  {
   "cell_type": "code",
   "execution_count": 45,
   "metadata": {
    "collapsed": false
   },
   "outputs": [
    {
     "name": "stdout",
     "output_type": "stream",
     "text": [
      "[ 0.87637218  0.95732707]\n"
     ]
    }
   ],
   "source": [
    "from sklearn import preprocessing\n",
    "import pdb\n",
    "import numpy as np\n",
    "from numpy import linalg as LA\n",
    "from sklearn import linear_model\n",
    "\n",
    "theta = np.random.randn(2, 1)   # initialize theta vector\n",
    "lamda = 1\n",
    "theta=[8.,8.]\n",
    "theta=np.asarray(theta)\n",
    "theta = theta[:,np.newaxis]\n",
    "\n",
    "#X = np.random.randn(9, 6)\n",
    "#y = np.random.randn(9, 1)\n",
    "#x = np.array([1,2,3], dtype=np.int64)\n",
    "X=[[1.,1.],[2.,2.],[1.,5.],[7.,8.]]\n",
    "y=[2.,4.,6.,15.]\n",
    "\n",
    "X=np.asarray(X).reshape((4, 2))\n",
    "y=np.asarray(y).reshape((4, 1))\n",
    "\n",
    "\n",
    "\n",
    "clf = linear_model.Lasso(alpha=1)\n",
    "clf.fit(X,y)\n",
    "print clf.coef_"
   ]
  },
  {
   "cell_type": "code",
   "execution_count": 32,
   "metadata": {
    "collapsed": false
   },
   "outputs": [
    {
     "name": "stdout",
     "output_type": "stream",
     "text": [
      "14\n"
     ]
    }
   ],
   "source": [
    "# Cross Validation\n",
    "\n",
    "from sklearn import cross_validation\n",
    "from sklearn.linear_model import Ridge\n",
    "import scipy\n",
    "\n",
    "n_samples, n_features = 10, 5\n",
    "np.random.seed(0)\n",
    "y = np.random.randn(n_samples)\n",
    "X = np.random.randn(n_samples, n_features)\n",
    "errors =[]\n",
    "kf = cross_validation.KFold(X.shape[0], n_folds=10)\n",
    "\n",
    "Score_mat = np.empty([1,10])\n",
    "Score_mat = scipy.delete(Score_mat,0,0)  # define S as an empty matrix\n",
    "for i in range(1,6,1):\n",
    "    \n",
    "    clf = Ridge(alpha=i)\n",
    "    scores = []\n",
    "    for train_index, test_index in kf:\n",
    "        #pdb.set_trace()\n",
    "        X_train, X_test = X[train_index], X[test_index]\n",
    "        y_train, y_test = y[train_index], y[test_index]\n",
    "        clf.fit(X_train, y_train)\n",
    "        y_hat = clf.predict(X_test)\n",
    "        error = LA.norm((y_test-y_hat))\n",
    "        errors.append(error)\n",
    "    #Score_mat = np.vstack((Score_mat,scores))\n",
    "\n",
    "print np.argmax(errors)"
   ]
  },
  {
   "cell_type": "code",
   "execution_count": null,
   "metadata": {
    "collapsed": true
   },
   "outputs": [],
   "source": []
  }
 ],
 "metadata": {
  "kernelspec": {
   "display_name": "Python 2",
   "language": "python",
   "name": "python2"
  },
  "language_info": {
   "codemirror_mode": {
    "name": "ipython",
    "version": 2
   },
   "file_extension": ".py",
   "mimetype": "text/x-python",
   "name": "python",
   "nbconvert_exporter": "python",
   "pygments_lexer": "ipython2",
   "version": "2.7.10"
  }
 },
 "nbformat": 4,
 "nbformat_minor": 0
}
